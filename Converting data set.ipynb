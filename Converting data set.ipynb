{
 "cells": [
  {
   "cell_type": "code",
   "execution_count": 1,
   "id": "ebaa84c7-7de9-433f-86c4-3ab45388b1af",
   "metadata": {},
   "outputs": [
    {
     "name": "stdout",
     "output_type": "stream",
     "text": [
      "Error reading file '~$oplesoft Admin_Gangareddy.doc': Open.Content\n",
      "Error reading file '~$oplesoft Admin_Priyanka Ramadoss.doc': Open.Content\n",
      "Error reading file '~$oplesoft Admin_srinivasarao.doc': Open.Content\n"
     ]
    },
    {
     "name": "stderr",
     "output_type": "stream",
     "text": [
      "Traceback (most recent call last):\n",
      "  File \"C:\\Users\\user\\AppData\\Local\\Temp\\ipykernel_5916\\2966672983.py\", line 55, in <module>\n",
      "    resume_text = doc.Content.Text\n",
      "  File \"C:\\Users\\user\\anaconda3\\lib\\site-packages\\win32com\\client\\dynamic.py\", line 639, in __getattr__\n",
      "    raise AttributeError(\"%s.%s\" % (self._username_, attr))\n",
      "AttributeError: Open.Content\n",
      "Traceback (most recent call last):\n",
      "  File \"C:\\Users\\user\\AppData\\Local\\Temp\\ipykernel_5916\\2966672983.py\", line 55, in <module>\n",
      "    resume_text = doc.Content.Text\n",
      "  File \"C:\\Users\\user\\anaconda3\\lib\\site-packages\\win32com\\client\\dynamic.py\", line 639, in __getattr__\n",
      "    raise AttributeError(\"%s.%s\" % (self._username_, attr))\n",
      "AttributeError: Open.Content\n",
      "Traceback (most recent call last):\n",
      "  File \"C:\\Users\\user\\AppData\\Local\\Temp\\ipykernel_5916\\2966672983.py\", line 55, in <module>\n",
      "    resume_text = doc.Content.Text\n",
      "  File \"C:\\Users\\user\\anaconda3\\lib\\site-packages\\win32com\\client\\dynamic.py\", line 639, in __getattr__\n",
      "    raise AttributeError(\"%s.%s\" % (self._username_, attr))\n",
      "AttributeError: Open.Content\n"
     ]
    },
    {
     "name": "stdout",
     "output_type": "stream",
     "text": [
      "Error reading file '~$oplesoft Admin_Vinod Akkala.doc': Open.Content\n",
      "Error reading file '~$opleSoft DBA_Ganesh Alladi.doc': Open.Content\n",
      "Error reading file '~$oplesoft Finance_Arun Venu.doc': Open.Content\n"
     ]
    },
    {
     "name": "stderr",
     "output_type": "stream",
     "text": [
      "Traceback (most recent call last):\n",
      "  File \"C:\\Users\\user\\AppData\\Local\\Temp\\ipykernel_5916\\2966672983.py\", line 55, in <module>\n",
      "    resume_text = doc.Content.Text\n",
      "  File \"C:\\Users\\user\\anaconda3\\lib\\site-packages\\win32com\\client\\dynamic.py\", line 639, in __getattr__\n",
      "    raise AttributeError(\"%s.%s\" % (self._username_, attr))\n",
      "AttributeError: Open.Content\n",
      "Traceback (most recent call last):\n",
      "  File \"C:\\Users\\user\\AppData\\Local\\Temp\\ipykernel_5916\\2966672983.py\", line 55, in <module>\n",
      "    resume_text = doc.Content.Text\n",
      "  File \"C:\\Users\\user\\anaconda3\\lib\\site-packages\\win32com\\client\\dynamic.py\", line 639, in __getattr__\n",
      "    raise AttributeError(\"%s.%s\" % (self._username_, attr))\n",
      "AttributeError: Open.Content\n",
      "Traceback (most recent call last):\n",
      "  File \"C:\\Users\\user\\AppData\\Local\\Temp\\ipykernel_5916\\2966672983.py\", line 55, in <module>\n",
      "    resume_text = doc.Content.Text\n",
      "  File \"C:\\Users\\user\\anaconda3\\lib\\site-packages\\win32com\\client\\dynamic.py\", line 639, in __getattr__\n",
      "    raise AttributeError(\"%s.%s\" % (self._username_, attr))\n",
      "AttributeError: Open.Content\n"
     ]
    },
    {
     "name": "stdout",
     "output_type": "stream",
     "text": [
      "Error reading file '~$oplesoft Finance_Pritam Biswas.doc': Open.Content\n",
      "Error reading file '~$oplesoft Finance_Rahul Ahuja.doc': Open.Content\n",
      "Error reading file '~$oplesoft FSCM_R Ahmed.doc': Open.Content\n"
     ]
    },
    {
     "name": "stderr",
     "output_type": "stream",
     "text": [
      "Traceback (most recent call last):\n",
      "  File \"C:\\Users\\user\\AppData\\Local\\Temp\\ipykernel_5916\\2966672983.py\", line 55, in <module>\n",
      "    resume_text = doc.Content.Text\n",
      "  File \"C:\\Users\\user\\anaconda3\\lib\\site-packages\\win32com\\client\\dynamic.py\", line 639, in __getattr__\n",
      "    raise AttributeError(\"%s.%s\" % (self._username_, attr))\n",
      "AttributeError: Open.Content\n",
      "Traceback (most recent call last):\n",
      "  File \"C:\\Users\\user\\AppData\\Local\\Temp\\ipykernel_5916\\2966672983.py\", line 55, in <module>\n",
      "    resume_text = doc.Content.Text\n",
      "  File \"C:\\Users\\user\\anaconda3\\lib\\site-packages\\win32com\\client\\dynamic.py\", line 639, in __getattr__\n",
      "    raise AttributeError(\"%s.%s\" % (self._username_, attr))\n",
      "AttributeError: Open.Content\n",
      "Traceback (most recent call last):\n",
      "  File \"C:\\Users\\user\\AppData\\Local\\Temp\\ipykernel_5916\\2966672983.py\", line 55, in <module>\n",
      "    resume_text = doc.Content.Text\n",
      "  File \"C:\\Users\\user\\anaconda3\\lib\\site-packages\\win32com\\client\\dynamic.py\", line 639, in __getattr__\n",
      "    raise AttributeError(\"%s.%s\" % (self._username_, attr))\n",
      "AttributeError: Open.Content\n"
     ]
    },
    {
     "name": "stdout",
     "output_type": "stream",
     "text": [
      "Error reading file '~$act Developer_PavasGoswami.doc': Open.Content\n",
      "Error reading file '~$act Developer_Vinay Reddy.doc': Open.Content\n"
     ]
    },
    {
     "name": "stderr",
     "output_type": "stream",
     "text": [
      "Traceback (most recent call last):\n",
      "  File \"C:\\Users\\user\\AppData\\Local\\Temp\\ipykernel_5916\\2966672983.py\", line 55, in <module>\n",
      "    resume_text = doc.Content.Text\n",
      "  File \"C:\\Users\\user\\anaconda3\\lib\\site-packages\\win32com\\client\\dynamic.py\", line 639, in __getattr__\n",
      "    raise AttributeError(\"%s.%s\" % (self._username_, attr))\n",
      "AttributeError: Open.Content\n",
      "Traceback (most recent call last):\n",
      "  File \"C:\\Users\\user\\AppData\\Local\\Temp\\ipykernel_5916\\2966672983.py\", line 55, in <module>\n",
      "    resume_text = doc.Content.Text\n",
      "  File \"C:\\Users\\user\\anaconda3\\lib\\site-packages\\win32com\\client\\dynamic.py\", line 639, in __getattr__\n",
      "    raise AttributeError(\"%s.%s\" % (self._username_, attr))\n",
      "AttributeError: Open.Content\n"
     ]
    },
    {
     "name": "stdout",
     "output_type": "stream",
     "text": [
      "Error reading file '~$act JS Developer_AnjaniPriyadarshini.doc': Open.Content\n"
     ]
    },
    {
     "name": "stderr",
     "output_type": "stream",
     "text": [
      "Traceback (most recent call last):\n",
      "  File \"C:\\Users\\user\\AppData\\Local\\Temp\\ipykernel_5916\\2966672983.py\", line 55, in <module>\n",
      "    resume_text = doc.Content.Text\n",
      "  File \"C:\\Users\\user\\anaconda3\\lib\\site-packages\\win32com\\client\\dynamic.py\", line 639, in __getattr__\n",
      "    raise AttributeError(\"%s.%s\" % (self._username_, attr))\n",
      "AttributeError: Open.Content\n"
     ]
    },
    {
     "name": "stdout",
     "output_type": "stream",
     "text": [
      "Error reading file '~$iyanka L.doc': Open.Content\n",
      "Error reading file '~$tikonda Kiran Kumar.doc': Open.Content\n"
     ]
    },
    {
     "name": "stderr",
     "output_type": "stream",
     "text": [
      "Traceback (most recent call last):\n",
      "  File \"C:\\Users\\user\\AppData\\Local\\Temp\\ipykernel_5916\\2966672983.py\", line 55, in <module>\n",
      "    resume_text = doc.Content.Text\n",
      "  File \"C:\\Users\\user\\anaconda3\\lib\\site-packages\\win32com\\client\\dynamic.py\", line 639, in __getattr__\n",
      "    raise AttributeError(\"%s.%s\" % (self._username_, attr))\n",
      "AttributeError: Open.Content\n",
      "Traceback (most recent call last):\n",
      "  File \"C:\\Users\\user\\AppData\\Local\\Temp\\ipykernel_5916\\2966672983.py\", line 55, in <module>\n",
      "    resume_text = doc.Content.Text\n",
      "  File \"C:\\Users\\user\\anaconda3\\lib\\site-packages\\win32com\\client\\dynamic.py\", line 639, in __getattr__\n",
      "    raise AttributeError(\"%s.%s\" % (self._username_, attr))\n",
      "AttributeError: Open.Content\n"
     ]
    },
    {
     "name": "stdout",
     "output_type": "stream",
     "text": [
      "Error reading file '~$zeer Basha.doc': Open.Content\n"
     ]
    },
    {
     "name": "stderr",
     "output_type": "stream",
     "text": [
      "Traceback (most recent call last):\n",
      "  File \"C:\\Users\\user\\AppData\\Local\\Temp\\ipykernel_5916\\2966672983.py\", line 55, in <module>\n",
      "    resume_text = doc.Content.Text\n",
      "  File \"C:\\Users\\user\\anaconda3\\lib\\site-packages\\win32com\\client\\dynamic.py\", line 639, in __getattr__\n",
      "    raise AttributeError(\"%s.%s\" % (self._username_, attr))\n",
      "AttributeError: Open.Content\n"
     ]
    },
    {
     "name": "stdout",
     "output_type": "stream",
     "text": [
      "Error reading file '~$ Sumanth Royal_Hexaware.doc': Open.Content\n",
      "Error reading file '~$deeswar A_Hexaware.doc': Open.Content\n",
      "Error reading file '~$i Krishna S_Hexaware.doc': Open.Content\n"
     ]
    },
    {
     "name": "stderr",
     "output_type": "stream",
     "text": [
      "Traceback (most recent call last):\n",
      "  File \"C:\\Users\\user\\AppData\\Local\\Temp\\ipykernel_5916\\2966672983.py\", line 55, in <module>\n",
      "    resume_text = doc.Content.Text\n",
      "  File \"C:\\Users\\user\\anaconda3\\lib\\site-packages\\win32com\\client\\dynamic.py\", line 639, in __getattr__\n",
      "    raise AttributeError(\"%s.%s\" % (self._username_, attr))\n",
      "AttributeError: Open.Content\n",
      "Traceback (most recent call last):\n",
      "  File \"C:\\Users\\user\\AppData\\Local\\Temp\\ipykernel_5916\\2966672983.py\", line 55, in <module>\n",
      "    resume_text = doc.Content.Text\n",
      "  File \"C:\\Users\\user\\anaconda3\\lib\\site-packages\\win32com\\client\\dynamic.py\", line 639, in __getattr__\n",
      "    raise AttributeError(\"%s.%s\" % (self._username_, attr))\n",
      "AttributeError: Open.Content\n",
      "Traceback (most recent call last):\n",
      "  File \"C:\\Users\\user\\AppData\\Local\\Temp\\ipykernel_5916\\2966672983.py\", line 55, in <module>\n",
      "    resume_text = doc.Content.Text\n",
      "  File \"C:\\Users\\user\\anaconda3\\lib\\site-packages\\win32com\\client\\dynamic.py\", line 639, in __getattr__\n",
      "    raise AttributeError(\"%s.%s\" % (self._username_, attr))\n",
      "AttributeError: Open.Content\n"
     ]
    },
    {
     "name": "stdout",
     "output_type": "stream",
     "text": [
      "Error reading file '~$ireeshKumar_Hexaware.doc': Open.Content\n",
      "Error reading file '~$ma Mendu_Hexaware.doc': Open.Content\n",
      "Error reading file '~$nkateswarlu B_Hexaware.doc': Open.Content\n"
     ]
    },
    {
     "name": "stderr",
     "output_type": "stream",
     "text": [
      "Traceback (most recent call last):\n",
      "  File \"C:\\Users\\user\\AppData\\Local\\Temp\\ipykernel_5916\\2966672983.py\", line 55, in <module>\n",
      "    resume_text = doc.Content.Text\n",
      "  File \"C:\\Users\\user\\anaconda3\\lib\\site-packages\\win32com\\client\\dynamic.py\", line 639, in __getattr__\n",
      "    raise AttributeError(\"%s.%s\" % (self._username_, attr))\n",
      "AttributeError: Open.Content\n",
      "Traceback (most recent call last):\n",
      "  File \"C:\\Users\\user\\AppData\\Local\\Temp\\ipykernel_5916\\2966672983.py\", line 55, in <module>\n",
      "    resume_text = doc.Content.Text\n",
      "  File \"C:\\Users\\user\\anaconda3\\lib\\site-packages\\win32com\\client\\dynamic.py\", line 639, in __getattr__\n",
      "    raise AttributeError(\"%s.%s\" % (self._username_, attr))\n",
      "AttributeError: Open.Content\n",
      "Traceback (most recent call last):\n",
      "  File \"C:\\Users\\user\\AppData\\Local\\Temp\\ipykernel_5916\\2966672983.py\", line 55, in <module>\n",
      "    resume_text = doc.Content.Text\n",
      "  File \"C:\\Users\\user\\anaconda3\\lib\\site-packages\\win32com\\client\\dynamic.py\", line 639, in __getattr__\n",
      "    raise AttributeError(\"%s.%s\" % (self._username_, attr))\n",
      "AttributeError: Open.Content\n"
     ]
    },
    {
     "name": "stdout",
     "output_type": "stream",
     "text": [
      "Error reading file '~$nugoti Swetha_Hexaware.doc': Open.Content\n",
      "Error reading file '~$resh Babu Cherukuri_Hexaware.doc': Open.Content\n",
      "Error reading file '~$ri Krishna M_Hexaware.doc': Open.Content\n"
     ]
    },
    {
     "name": "stderr",
     "output_type": "stream",
     "text": [
      "Traceback (most recent call last):\n",
      "  File \"C:\\Users\\user\\AppData\\Local\\Temp\\ipykernel_5916\\2966672983.py\", line 55, in <module>\n",
      "    resume_text = doc.Content.Text\n",
      "  File \"C:\\Users\\user\\anaconda3\\lib\\site-packages\\win32com\\client\\dynamic.py\", line 639, in __getattr__\n",
      "    raise AttributeError(\"%s.%s\" % (self._username_, attr))\n",
      "AttributeError: Open.Content\n",
      "Traceback (most recent call last):\n",
      "  File \"C:\\Users\\user\\AppData\\Local\\Temp\\ipykernel_5916\\2966672983.py\", line 55, in <module>\n",
      "    resume_text = doc.Content.Text\n",
      "  File \"C:\\Users\\user\\anaconda3\\lib\\site-packages\\win32com\\client\\dynamic.py\", line 639, in __getattr__\n",
      "    raise AttributeError(\"%s.%s\" % (self._username_, attr))\n",
      "AttributeError: Open.Content\n",
      "Traceback (most recent call last):\n",
      "  File \"C:\\Users\\user\\AppData\\Local\\Temp\\ipykernel_5916\\2966672983.py\", line 55, in <module>\n",
      "    resume_text = doc.Content.Text\n",
      "  File \"C:\\Users\\user\\anaconda3\\lib\\site-packages\\win32com\\client\\dynamic.py\", line 639, in __getattr__\n",
      "    raise AttributeError(\"%s.%s\" % (self._username_, attr))\n",
      "AttributeError: Open.Content\n"
     ]
    },
    {
     "name": "stdout",
     "output_type": "stream",
     "text": [
      "Error reading file '~$rikrishna Akula_Hexaware.doc': Open.Content\n",
      "              Category                                             Resume\n",
      "0   Peoplesoft resumes    Anubhav Kumar Singh\\t\\t\\n\\n  To work in a gl...\n",
      "1   Peoplesoft resumes  \\n\\n\\n\\n\\n\\n\\t\\n\\nProfile Summary:\\t\\t\\t\\t\\t\\t...\n",
      "2   Peoplesoft resumes  PeopleSoft Database Administrator\\n           ...\n",
      "3   Peoplesoft resumes  Murali\\n\\nExperience Summary \\n\\nI have 6 year...\n",
      "4   Peoplesoft resumes  Priyanka Ramadoss\\n61/46, MountPleasant, \\nCoo...\n",
      "..                 ...                                                ...\n",
      "74             WorkDay  \\tWorkday Integration Consultant\\n\\nName      ...\n",
      "75             WorkDay  Seeking suitable positions in Workday HCM  as ...\n",
      "76             WorkDay  \\nWORKDAY | HCM | FCM\\nName \\t\\t: Kumar S.S\\nR...\n",
      "77             WorkDay  Venkateswarlu.B\\t\\t\\t\\t\\t\\t\\t\\tWorkday Consult...\n",
      "78             WorkDay                                                ...\n",
      "\n",
      "[79 rows x 2 columns]\n"
     ]
    },
    {
     "name": "stderr",
     "output_type": "stream",
     "text": [
      "Traceback (most recent call last):\n",
      "  File \"C:\\Users\\user\\AppData\\Local\\Temp\\ipykernel_5916\\2966672983.py\", line 55, in <module>\n",
      "    resume_text = doc.Content.Text\n",
      "  File \"C:\\Users\\user\\anaconda3\\lib\\site-packages\\win32com\\client\\dynamic.py\", line 639, in __getattr__\n",
      "    raise AttributeError(\"%s.%s\" % (self._username_, attr))\n",
      "AttributeError: Open.Content\n"
     ]
    }
   ],
   "source": [
    "import os\n",
    "import docx\n",
    "import pandas as pd\n",
    "import win32com.client\n",
    "import traceback\n",
    "import re\n",
    "from nltk.tokenize import RegexpTokenizer\n",
    "from nltk.corpus import stopwords\n",
    "\n",
    "# Define the folder path containing the Word documents\n",
    "folder_path = {\n",
    "                \"Peoplesoft resumes\": r\"C:\\Users\\user\\Desktop\\NLP\\P-344 Dataset\\Resumes_Docx\\Peoplesoft Resume\",\n",
    "    \"React Developer\": r\"C:\\Users\\user\\Desktop\\NLP\\P-344 Dataset\\Resumes_Docx\\React Developer\",\n",
    "    \"SQL Developer\": r\"C:\\Users\\user\\Desktop\\NLP\\P-344 Dataset\\Resumes_Docx\\SQL Developer\",\n",
    "    \"WorkDay\": r\"C:\\Users\\user\\Desktop\\NLP\\P-344 Dataset\\Resumes_Docx\\workday\"}\n",
    "           \n",
    "\n",
    "# Initialize an empty list to store resume data\n",
    "resume_data = []\n",
    "\n",
    "# Iterate through all files in the folde\n",
    "for category, folder_path in folder_path.items():\n",
    "    for filename in os.listdir(folder_path):\n",
    "        file_path = os.path.join(folder_path, filename)\n",
    "\n",
    "    # Check if the file is a Word document (.docx or .doc)\n",
    "        if file_path.endswith('.docx'):\n",
    "            try:\n",
    "            # Open the Word document (.docx)\n",
    "                doc = docx.Document(file_path)\n",
    "\n",
    "            # Extract text from the Word document\n",
    "                resume_text = ''\n",
    "                for paragraph in doc.paragraphs:\n",
    "                    resume_text += paragraph.text + '\\n'\n",
    "\n",
    "            # Append the resume text to the list\n",
    "                resume_data.append([category, resume_text])\n",
    "\n",
    "            except docx.opc.exceptions.PackageNotFoundError:\n",
    "                # Handle corrupted or incomplete Word documents\n",
    "                print(f\"Error: The file '{filename}' is corrupted or incomplete. Skipping this file.\")\n",
    "            except Exception as e:\n",
    "                print(f\"Error reading file '{filename}': {e}\")\n",
    "                traceback.print_exc()\n",
    "\n",
    "        elif file_path.endswith('.doc'):\n",
    "            try:\n",
    "                # Open the Word document (.doc)\n",
    "                word_app = win32com.client.Dispatch(\"Word.Application\")\n",
    "                word_app.Visible = False  # Keep the Word application window hidden\n",
    "                doc = word_app.Documents.Open(file_path)\n",
    "\n",
    "                # Extract text from the Word document\n",
    "                resume_text = doc.Content.Text\n",
    "\n",
    "                # Close the Word document and the Word application\n",
    "                doc.Close()\n",
    "                word_app.Quit()\n",
    "\n",
    "                # Append the resume text to the list\n",
    "                resume_data.append([category, resume_text])\n",
    "\n",
    "            except Exception as e:\n",
    "                print(f\"Error reading file '{filename}': {e}\")\n",
    "                traceback.print_exc()\n",
    "\n",
    "# Create a dataframe from the list of resume texts\n",
    "resume_df = pd.DataFrame(resume_data, columns=['Category', 'Resume'])\n",
    "\n",
    "# Print the first few rows of the dataframe\n",
    "print(resume_df)"
   ]
  },
  {
   "cell_type": "code",
   "execution_count": 2,
   "id": "2345bbff-2c28-4ce8-a0ae-3c35c09f071c",
   "metadata": {},
   "outputs": [],
   "source": [
    "resume_df.to_csv('Raw_Resume.csv', index=False)"
   ]
  },
  {
   "cell_type": "code",
   "execution_count": 3,
   "id": "7c0a4ec9-be72-4fd5-9c9d-1db719d31070",
   "metadata": {},
   "outputs": [],
   "source": [
    "def preprocess(sentence):\n",
    "  sentence = str(sentence)\n",
    "  sentence = sentence.lower()\n",
    "  sentence = sentence.replace('{html}', \"\")\n",
    "  cleanr = re.compile('<.*?>')\n",
    "  cleantext = re.sub(cleanr, '', sentence)\n",
    "  rem_url = re.sub(r'http\\S+', '', cleantext)\n",
    "  \n",
    "  # Splitting into numbers and words\n",
    "  tokens = re.findall(r'\\d+(?:\\.\\d+)?|\\w+', rem_url)\n",
    "  \n",
    "  # Filtering (modify based on your needs)\n",
    "  filtered_words = [w for w in tokens if len(w) >= 1]  # Keep words and numbers with length > 2\n",
    "\n",
    "  return \" \".join(filtered_words)"
   ]
  },
  {
   "cell_type": "code",
   "execution_count": 4,
   "id": "a342f5c6-c78d-4336-a720-9341b5a6968e",
   "metadata": {},
   "outputs": [],
   "source": [
    "resume_df = pd.read_csv('Raw_Resume.csv')\n",
    "resume_df['Resume_Details'] = resume_df.Resume.apply(lambda x: preprocess(x))"
   ]
  },
  {
   "cell_type": "code",
   "execution_count": 5,
   "id": "e8d06f8d-8ee1-423b-a132-c1807055c046",
   "metadata": {},
   "outputs": [
    {
     "data": {
      "text/html": [
       "<div>\n",
       "<style scoped>\n",
       "    .dataframe tbody tr th:only-of-type {\n",
       "        vertical-align: middle;\n",
       "    }\n",
       "\n",
       "    .dataframe tbody tr th {\n",
       "        vertical-align: top;\n",
       "    }\n",
       "\n",
       "    .dataframe thead th {\n",
       "        text-align: right;\n",
       "    }\n",
       "</style>\n",
       "<table border=\"1\" class=\"dataframe\">\n",
       "  <thead>\n",
       "    <tr style=\"text-align: right;\">\n",
       "      <th></th>\n",
       "      <th>Category</th>\n",
       "      <th>Resume</th>\n",
       "      <th>Resume_Details</th>\n",
       "    </tr>\n",
       "  </thead>\n",
       "  <tbody>\n",
       "    <tr>\n",
       "      <th>0</th>\n",
       "      <td>Peoplesoft resumes</td>\n",
       "      <td>Anubhav Kumar Singh\\t\\t\\n\\n  To work in a gl...</td>\n",
       "      <td>anubhav kumar singh to work in a globally comp...</td>\n",
       "    </tr>\n",
       "    <tr>\n",
       "      <th>1</th>\n",
       "      <td>Peoplesoft resumes</td>\n",
       "      <td>\\n\\n\\n\\n\\n\\n\\t\\n\\nProfile Summary:\\t\\t\\t\\t\\t\\t...</td>\n",
       "      <td>profile summary 7 years of experience in imple...</td>\n",
       "    </tr>\n",
       "    <tr>\n",
       "      <th>2</th>\n",
       "      <td>Peoplesoft resumes</td>\n",
       "      <td>PeopleSoft Database Administrator\\n           ...</td>\n",
       "      <td>peoplesoft database administrator gangareddy p...</td>\n",
       "    </tr>\n",
       "    <tr>\n",
       "      <th>3</th>\n",
       "      <td>Peoplesoft resumes</td>\n",
       "      <td>Murali\\n\\nExperience Summary \\n\\nI have 6 year...</td>\n",
       "      <td>murali experience summary i have 6 years of ex...</td>\n",
       "    </tr>\n",
       "    <tr>\n",
       "      <th>4</th>\n",
       "      <td>Peoplesoft resumes</td>\n",
       "      <td>Priyanka Ramadoss\\n61/46, MountPleasant, \\nCoo...</td>\n",
       "      <td>priyanka ramadoss 61 46 mountpleasant coonoor ...</td>\n",
       "    </tr>\n",
       "    <tr>\n",
       "      <th>...</th>\n",
       "      <td>...</td>\n",
       "      <td>...</td>\n",
       "      <td>...</td>\n",
       "    </tr>\n",
       "    <tr>\n",
       "      <th>74</th>\n",
       "      <td>WorkDay</td>\n",
       "      <td>\\tWorkday Integration Consultant\\n\\nName      ...</td>\n",
       "      <td>workday integration consultant name sri krishn...</td>\n",
       "    </tr>\n",
       "    <tr>\n",
       "      <th>75</th>\n",
       "      <td>WorkDay</td>\n",
       "      <td>Seeking suitable positions in Workday HCM  as ...</td>\n",
       "      <td>seeking suitable positions in workday hcm as t...</td>\n",
       "    </tr>\n",
       "    <tr>\n",
       "      <th>76</th>\n",
       "      <td>WorkDay</td>\n",
       "      <td>\\nWORKDAY | HCM | FCM\\nName \\t\\t: Kumar S.S\\nR...</td>\n",
       "      <td>workday hcm fcm name kumar s s role workday co...</td>\n",
       "    </tr>\n",
       "    <tr>\n",
       "      <th>77</th>\n",
       "      <td>WorkDay</td>\n",
       "      <td>Venkateswarlu.B\\t\\t\\t\\t\\t\\t\\t\\tWorkday Consult...</td>\n",
       "      <td>venkateswarlu b workday consultant having 5.3 ...</td>\n",
       "    </tr>\n",
       "    <tr>\n",
       "      <th>78</th>\n",
       "      <td>WorkDay</td>\n",
       "      <td>...</td>\n",
       "      <td>vinay kumar v workday functional consultant ex...</td>\n",
       "    </tr>\n",
       "  </tbody>\n",
       "</table>\n",
       "<p>79 rows × 3 columns</p>\n",
       "</div>"
      ],
      "text/plain": [
       "              Category                                             Resume  \\\n",
       "0   Peoplesoft resumes    Anubhav Kumar Singh\\t\\t\\n\\n  To work in a gl...   \n",
       "1   Peoplesoft resumes  \\n\\n\\n\\n\\n\\n\\t\\n\\nProfile Summary:\\t\\t\\t\\t\\t\\t...   \n",
       "2   Peoplesoft resumes  PeopleSoft Database Administrator\\n           ...   \n",
       "3   Peoplesoft resumes  Murali\\n\\nExperience Summary \\n\\nI have 6 year...   \n",
       "4   Peoplesoft resumes  Priyanka Ramadoss\\n61/46, MountPleasant, \\nCoo...   \n",
       "..                 ...                                                ...   \n",
       "74             WorkDay  \\tWorkday Integration Consultant\\n\\nName      ...   \n",
       "75             WorkDay  Seeking suitable positions in Workday HCM  as ...   \n",
       "76             WorkDay  \\nWORKDAY | HCM | FCM\\nName \\t\\t: Kumar S.S\\nR...   \n",
       "77             WorkDay  Venkateswarlu.B\\t\\t\\t\\t\\t\\t\\t\\tWorkday Consult...   \n",
       "78             WorkDay                                                ...   \n",
       "\n",
       "                                       Resume_Details  \n",
       "0   anubhav kumar singh to work in a globally comp...  \n",
       "1   profile summary 7 years of experience in imple...  \n",
       "2   peoplesoft database administrator gangareddy p...  \n",
       "3   murali experience summary i have 6 years of ex...  \n",
       "4   priyanka ramadoss 61 46 mountpleasant coonoor ...  \n",
       "..                                                ...  \n",
       "74  workday integration consultant name sri krishn...  \n",
       "75  seeking suitable positions in workday hcm as t...  \n",
       "76  workday hcm fcm name kumar s s role workday co...  \n",
       "77  venkateswarlu b workday consultant having 5.3 ...  \n",
       "78  vinay kumar v workday functional consultant ex...  \n",
       "\n",
       "[79 rows x 3 columns]"
      ]
     },
     "execution_count": 5,
     "metadata": {},
     "output_type": "execute_result"
    }
   ],
   "source": [
    "resume_df"
   ]
  },
  {
   "cell_type": "code",
   "execution_count": 6,
   "id": "b7ca39d9-4252-4322-aa99-1e0a04949318",
   "metadata": {},
   "outputs": [],
   "source": [
    "resume_df.drop('Resume', axis=1, inplace=True)"
   ]
  },
  {
   "cell_type": "code",
   "execution_count": 7,
   "id": "8cb65cb0-f292-4fff-8763-61a65dbf3157",
   "metadata": {},
   "outputs": [
    {
     "data": {
      "text/html": [
       "<div>\n",
       "<style scoped>\n",
       "    .dataframe tbody tr th:only-of-type {\n",
       "        vertical-align: middle;\n",
       "    }\n",
       "\n",
       "    .dataframe tbody tr th {\n",
       "        vertical-align: top;\n",
       "    }\n",
       "\n",
       "    .dataframe thead th {\n",
       "        text-align: right;\n",
       "    }\n",
       "</style>\n",
       "<table border=\"1\" class=\"dataframe\">\n",
       "  <thead>\n",
       "    <tr style=\"text-align: right;\">\n",
       "      <th></th>\n",
       "      <th>Category</th>\n",
       "      <th>Resume_Details</th>\n",
       "    </tr>\n",
       "  </thead>\n",
       "  <tbody>\n",
       "    <tr>\n",
       "      <th>0</th>\n",
       "      <td>Peoplesoft resumes</td>\n",
       "      <td>anubhav kumar singh to work in a globally comp...</td>\n",
       "    </tr>\n",
       "    <tr>\n",
       "      <th>1</th>\n",
       "      <td>Peoplesoft resumes</td>\n",
       "      <td>profile summary 7 years of experience in imple...</td>\n",
       "    </tr>\n",
       "    <tr>\n",
       "      <th>2</th>\n",
       "      <td>Peoplesoft resumes</td>\n",
       "      <td>peoplesoft database administrator gangareddy p...</td>\n",
       "    </tr>\n",
       "    <tr>\n",
       "      <th>3</th>\n",
       "      <td>Peoplesoft resumes</td>\n",
       "      <td>murali experience summary i have 6 years of ex...</td>\n",
       "    </tr>\n",
       "    <tr>\n",
       "      <th>4</th>\n",
       "      <td>Peoplesoft resumes</td>\n",
       "      <td>priyanka ramadoss 61 46 mountpleasant coonoor ...</td>\n",
       "    </tr>\n",
       "    <tr>\n",
       "      <th>...</th>\n",
       "      <td>...</td>\n",
       "      <td>...</td>\n",
       "    </tr>\n",
       "    <tr>\n",
       "      <th>74</th>\n",
       "      <td>WorkDay</td>\n",
       "      <td>workday integration consultant name sri krishn...</td>\n",
       "    </tr>\n",
       "    <tr>\n",
       "      <th>75</th>\n",
       "      <td>WorkDay</td>\n",
       "      <td>seeking suitable positions in workday hcm as t...</td>\n",
       "    </tr>\n",
       "    <tr>\n",
       "      <th>76</th>\n",
       "      <td>WorkDay</td>\n",
       "      <td>workday hcm fcm name kumar s s role workday co...</td>\n",
       "    </tr>\n",
       "    <tr>\n",
       "      <th>77</th>\n",
       "      <td>WorkDay</td>\n",
       "      <td>venkateswarlu b workday consultant having 5.3 ...</td>\n",
       "    </tr>\n",
       "    <tr>\n",
       "      <th>78</th>\n",
       "      <td>WorkDay</td>\n",
       "      <td>vinay kumar v workday functional consultant ex...</td>\n",
       "    </tr>\n",
       "  </tbody>\n",
       "</table>\n",
       "<p>79 rows × 2 columns</p>\n",
       "</div>"
      ],
      "text/plain": [
       "              Category                                     Resume_Details\n",
       "0   Peoplesoft resumes  anubhav kumar singh to work in a globally comp...\n",
       "1   Peoplesoft resumes  profile summary 7 years of experience in imple...\n",
       "2   Peoplesoft resumes  peoplesoft database administrator gangareddy p...\n",
       "3   Peoplesoft resumes  murali experience summary i have 6 years of ex...\n",
       "4   Peoplesoft resumes  priyanka ramadoss 61 46 mountpleasant coonoor ...\n",
       "..                 ...                                                ...\n",
       "74             WorkDay  workday integration consultant name sri krishn...\n",
       "75             WorkDay  seeking suitable positions in workday hcm as t...\n",
       "76             WorkDay  workday hcm fcm name kumar s s role workday co...\n",
       "77             WorkDay  venkateswarlu b workday consultant having 5.3 ...\n",
       "78             WorkDay  vinay kumar v workday functional consultant ex...\n",
       "\n",
       "[79 rows x 2 columns]"
      ]
     },
     "execution_count": 7,
     "metadata": {},
     "output_type": "execute_result"
    }
   ],
   "source": [
    "resume_df"
   ]
  },
  {
   "cell_type": "code",
   "execution_count": 8,
   "id": "a7e36e7e-ae70-4f3d-ba34-183bed9c6726",
   "metadata": {},
   "outputs": [],
   "source": [
    "resume_df.to_csv('Cleaned_Resumes.csv', index = False)"
   ]
  },
  {
   "cell_type": "code",
   "execution_count": 9,
   "id": "4b36b5bc-226a-465d-8558-7d3dd531a232",
   "metadata": {},
   "outputs": [
    {
     "data": {
      "text/plain": [
       "'murali experience summary i have 6 years of experience working in peoplesoft administration and performing various infrastructure related activities in peoplesoft environments installed and configured peoplesoft 9.0 9.1 9.2 web server application server database server and process scheduler server on windows unix and linux platforms creating domains for web server application server and process scheduler server applied patches manually and applied maintenance packs through change assistant tool experience in dpks installations applying tax updates and fixes using pum migrating projects from one environment to another environment using application designer and also through capi stat tools performed single sign on sso implementation experience in running compare reports between pre and post migrations experience in setting up client workstation for developers and testers involved in configuration of integration broker setting up between the modules for sending the messages involved 24 7 production support to client involved in running audit reports dddaudit and sysaudit for integrity checks experience in configuration and setup the ren server configured and maintained report nodes settings checked and clear cache for the servers involved in troubleshooting of the servers like application server web server and process scheduler server worked on peopletools upgrade pt8 52 to pt8 55 and 8.55 to 8.57 installing and configuring elastic search 6.1 2 career profile client sembcorp brazil description this project involved active production support in the fields of hrms 9.2 additionally also involved in maintenance and enhancement of the system responsibility installation and setup of people soft hcm elm 9.2 on oracle creating database user assigning roles privileges to the users maintaining various people soft instances debugging and resolving issues related to application server web server process scheduler weekly monthly database maintains performed people tools upgrade from 8.55 14 to 8.57 05 performing post refresh activities client wipro ind platforms people tools 8.56 people soft hcm 9.2 description this project involved active production support in the fields of hrms 9.2 additionally also involved in maintenance and enhancement of the system responsibility installation and setup of people soft hcm 9.2 on oracle creating database user assigning roles privileges to the users maintaining various people soft instances debugging and resolving issues related to application server web server process scheduler weekly monthly database maintains creating and modifying data mover scripts migrating projects using capi applying patches setting up a peoplesoft reporting environment for reporting interacting with the client for various production related issues applying tax updates using pum performing post refresh activities project title people soft hcm production support and enhancement client asg usa platforms people tools 8.52 8.54 people soft hcm 9.0 9.2 db2 aix 5.1 description this project involved active production support in the fields of hrms 9.0 additionally also involved in maintenance and enhancement of the system responsibility installation and setup of people soft hcm 9.0 9.1 on db2 creating database user assigning roles privileges to the users maintaining various people soft instances debugging and resolving issues related to application server web server process scheduler weekly monthly database maintains creating and modifying data mover scripts migrating projects using stat capi applying patches setting up a peoplesoft reporting environment for reporting interacting with the client for various production related issues applying tax updates using pum performing post refresh activities technology personal details date place hyderabad'"
      ]
     },
     "execution_count": 9,
     "metadata": {},
     "output_type": "execute_result"
    }
   ],
   "source": [
    "resume_df.Resume_Details[3]"
   ]
  },
  {
   "cell_type": "code",
   "execution_count": null,
   "id": "c4792d19-0334-4442-92e5-878f1c9f1e9a",
   "metadata": {},
   "outputs": [],
   "source": []
  }
 ],
 "metadata": {
  "kernelspec": {
   "display_name": "Python 3 (ipykernel)",
   "language": "python",
   "name": "python3"
  },
  "language_info": {
   "codemirror_mode": {
    "name": "ipython",
    "version": 3
   },
   "file_extension": ".py",
   "mimetype": "text/x-python",
   "name": "python",
   "nbconvert_exporter": "python",
   "pygments_lexer": "ipython3",
   "version": "3.9.13"
  }
 },
 "nbformat": 4,
 "nbformat_minor": 5
}
