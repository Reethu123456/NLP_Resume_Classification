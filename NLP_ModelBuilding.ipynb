{
 "cells": [
  {
   "cell_type": "code",
   "execution_count": 1,
   "id": "1db53045",
   "metadata": {},
   "outputs": [],
   "source": [
    "import pandas as pd\n",
    "import matplotlib.pyplot as plt\n",
    "import seaborn as sns\n",
    "import re"
   ]
  },
  {
   "cell_type": "code",
   "execution_count": 2,
   "id": "80af0509",
   "metadata": {},
   "outputs": [],
   "source": [
    "resume_df = pd.read_csv('Cleaned_Resumes.csv')"
   ]
  },
  {
   "cell_type": "code",
   "execution_count": 3,
   "id": "c72062b9",
   "metadata": {},
   "outputs": [
    {
     "data": {
      "text/html": [
       "<div>\n",
       "<style scoped>\n",
       "    .dataframe tbody tr th:only-of-type {\n",
       "        vertical-align: middle;\n",
       "    }\n",
       "\n",
       "    .dataframe tbody tr th {\n",
       "        vertical-align: top;\n",
       "    }\n",
       "\n",
       "    .dataframe thead th {\n",
       "        text-align: right;\n",
       "    }\n",
       "</style>\n",
       "<table border=\"1\" class=\"dataframe\">\n",
       "  <thead>\n",
       "    <tr style=\"text-align: right;\">\n",
       "      <th></th>\n",
       "      <th>Category</th>\n",
       "      <th>Resume_Details</th>\n",
       "    </tr>\n",
       "  </thead>\n",
       "  <tbody>\n",
       "    <tr>\n",
       "      <th>0</th>\n",
       "      <td>Peoplesoft resumes</td>\n",
       "      <td>anubhav kumar singh to work in a globally comp...</td>\n",
       "    </tr>\n",
       "    <tr>\n",
       "      <th>1</th>\n",
       "      <td>Peoplesoft resumes</td>\n",
       "      <td>profile summary 7 years of experience in imple...</td>\n",
       "    </tr>\n",
       "    <tr>\n",
       "      <th>2</th>\n",
       "      <td>Peoplesoft resumes</td>\n",
       "      <td>peoplesoft database administrator gangareddy p...</td>\n",
       "    </tr>\n",
       "    <tr>\n",
       "      <th>3</th>\n",
       "      <td>Peoplesoft resumes</td>\n",
       "      <td>murali experience summary i have 6 years of ex...</td>\n",
       "    </tr>\n",
       "    <tr>\n",
       "      <th>4</th>\n",
       "      <td>Peoplesoft resumes</td>\n",
       "      <td>priyanka ramadoss 61 46 mountpleasant coonoor ...</td>\n",
       "    </tr>\n",
       "    <tr>\n",
       "      <th>...</th>\n",
       "      <td>...</td>\n",
       "      <td>...</td>\n",
       "    </tr>\n",
       "    <tr>\n",
       "      <th>74</th>\n",
       "      <td>WorkDay</td>\n",
       "      <td>workday integration consultant name sri krishn...</td>\n",
       "    </tr>\n",
       "    <tr>\n",
       "      <th>75</th>\n",
       "      <td>WorkDay</td>\n",
       "      <td>seeking suitable positions in workday hcm as t...</td>\n",
       "    </tr>\n",
       "    <tr>\n",
       "      <th>76</th>\n",
       "      <td>WorkDay</td>\n",
       "      <td>workday hcm fcm name kumar s s role workday co...</td>\n",
       "    </tr>\n",
       "    <tr>\n",
       "      <th>77</th>\n",
       "      <td>WorkDay</td>\n",
       "      <td>venkateswarlu b workday consultant having 5.3 ...</td>\n",
       "    </tr>\n",
       "    <tr>\n",
       "      <th>78</th>\n",
       "      <td>WorkDay</td>\n",
       "      <td>vinay kumar v workday functional consultant ex...</td>\n",
       "    </tr>\n",
       "  </tbody>\n",
       "</table>\n",
       "<p>79 rows × 2 columns</p>\n",
       "</div>"
      ],
      "text/plain": [
       "              Category                                     Resume_Details\n",
       "0   Peoplesoft resumes  anubhav kumar singh to work in a globally comp...\n",
       "1   Peoplesoft resumes  profile summary 7 years of experience in imple...\n",
       "2   Peoplesoft resumes  peoplesoft database administrator gangareddy p...\n",
       "3   Peoplesoft resumes  murali experience summary i have 6 years of ex...\n",
       "4   Peoplesoft resumes  priyanka ramadoss 61 46 mountpleasant coonoor ...\n",
       "..                 ...                                                ...\n",
       "74             WorkDay  workday integration consultant name sri krishn...\n",
       "75             WorkDay  seeking suitable positions in workday hcm as t...\n",
       "76             WorkDay  workday hcm fcm name kumar s s role workday co...\n",
       "77             WorkDay  venkateswarlu b workday consultant having 5.3 ...\n",
       "78             WorkDay  vinay kumar v workday functional consultant ex...\n",
       "\n",
       "[79 rows x 2 columns]"
      ]
     },
     "execution_count": 3,
     "metadata": {},
     "output_type": "execute_result"
    }
   ],
   "source": [
    "resume_df"
   ]
  },
  {
   "cell_type": "code",
   "execution_count": 4,
   "id": "e6eab34f",
   "metadata": {},
   "outputs": [
    {
     "data": {
      "text/html": [
       "<div>\n",
       "<style scoped>\n",
       "    .dataframe tbody tr th:only-of-type {\n",
       "        vertical-align: middle;\n",
       "    }\n",
       "\n",
       "    .dataframe tbody tr th {\n",
       "        vertical-align: top;\n",
       "    }\n",
       "\n",
       "    .dataframe thead th {\n",
       "        text-align: right;\n",
       "    }\n",
       "</style>\n",
       "<table border=\"1\" class=\"dataframe\">\n",
       "  <thead>\n",
       "    <tr style=\"text-align: right;\">\n",
       "      <th></th>\n",
       "      <th>Category</th>\n",
       "      <th>Resume_Details</th>\n",
       "    </tr>\n",
       "  </thead>\n",
       "  <tbody>\n",
       "    <tr>\n",
       "      <th>0</th>\n",
       "      <td>0</td>\n",
       "      <td>anubhav kumar singh to work in a globally comp...</td>\n",
       "    </tr>\n",
       "    <tr>\n",
       "      <th>1</th>\n",
       "      <td>0</td>\n",
       "      <td>profile summary 7 years of experience in imple...</td>\n",
       "    </tr>\n",
       "    <tr>\n",
       "      <th>2</th>\n",
       "      <td>0</td>\n",
       "      <td>peoplesoft database administrator gangareddy p...</td>\n",
       "    </tr>\n",
       "    <tr>\n",
       "      <th>3</th>\n",
       "      <td>0</td>\n",
       "      <td>murali experience summary i have 6 years of ex...</td>\n",
       "    </tr>\n",
       "    <tr>\n",
       "      <th>4</th>\n",
       "      <td>0</td>\n",
       "      <td>priyanka ramadoss 61 46 mountpleasant coonoor ...</td>\n",
       "    </tr>\n",
       "    <tr>\n",
       "      <th>...</th>\n",
       "      <td>...</td>\n",
       "      <td>...</td>\n",
       "    </tr>\n",
       "    <tr>\n",
       "      <th>74</th>\n",
       "      <td>3</td>\n",
       "      <td>workday integration consultant name sri krishn...</td>\n",
       "    </tr>\n",
       "    <tr>\n",
       "      <th>75</th>\n",
       "      <td>3</td>\n",
       "      <td>seeking suitable positions in workday hcm as t...</td>\n",
       "    </tr>\n",
       "    <tr>\n",
       "      <th>76</th>\n",
       "      <td>3</td>\n",
       "      <td>workday hcm fcm name kumar s s role workday co...</td>\n",
       "    </tr>\n",
       "    <tr>\n",
       "      <th>77</th>\n",
       "      <td>3</td>\n",
       "      <td>venkateswarlu b workday consultant having 5.3 ...</td>\n",
       "    </tr>\n",
       "    <tr>\n",
       "      <th>78</th>\n",
       "      <td>3</td>\n",
       "      <td>vinay kumar v workday functional consultant ex...</td>\n",
       "    </tr>\n",
       "  </tbody>\n",
       "</table>\n",
       "<p>79 rows × 2 columns</p>\n",
       "</div>"
      ],
      "text/plain": [
       "    Category                                     Resume_Details\n",
       "0          0  anubhav kumar singh to work in a globally comp...\n",
       "1          0  profile summary 7 years of experience in imple...\n",
       "2          0  peoplesoft database administrator gangareddy p...\n",
       "3          0  murali experience summary i have 6 years of ex...\n",
       "4          0  priyanka ramadoss 61 46 mountpleasant coonoor ...\n",
       "..       ...                                                ...\n",
       "74         3  workday integration consultant name sri krishn...\n",
       "75         3  seeking suitable positions in workday hcm as t...\n",
       "76         3  workday hcm fcm name kumar s s role workday co...\n",
       "77         3  venkateswarlu b workday consultant having 5.3 ...\n",
       "78         3  vinay kumar v workday functional consultant ex...\n",
       "\n",
       "[79 rows x 2 columns]"
      ]
     },
     "execution_count": 4,
     "metadata": {},
     "output_type": "execute_result"
    }
   ],
   "source": [
    "#Words into categorical values\n",
    "\n",
    "\n",
    "from sklearn.preprocessing import LabelEncoder\n",
    "le=LabelEncoder()\n",
    "\n",
    "le.fit(resume_df[\"Category\"])\n",
    "resume_df[\"Category\"]=le.transform(resume_df[\"Category\"])\n",
    "resume_df"
   ]
  },
  {
   "cell_type": "code",
   "execution_count": 12,
   "id": "35c82870",
   "metadata": {},
   "outputs": [
    {
     "data": {
      "text/plain": [
       "<79x4109 sparse matrix of type '<class 'numpy.int64'>'\n",
       "\twith 18094 stored elements in Compressed Sparse Row format>"
      ]
     },
     "execution_count": 12,
     "metadata": {},
     "output_type": "execute_result"
    }
   ],
   "source": [
    "# vectorization\n",
    "from sklearn.feature_extraction.text import CountVectorizer\n",
    "\n",
    "# Initialize the CountVectorizer\n",
    "count_vectorizer = CountVectorizer(stop_words='english')\n",
    "\n",
    "# Fit the vectorizer to the text data and transform it into count vectors\n",
    "count_vectorizer.fit(resume_df[\"Resume_Details\"])\n",
    "Text = count_vectorizer.transform(resume_df[\"Resume_Details\"])\n",
    "\n",
    "# Output the transformed text\n",
    "Text\n"
   ]
  },
  {
   "cell_type": "code",
   "execution_count": 6,
   "id": "36081e3c",
   "metadata": {},
   "outputs": [],
   "source": [
    "# spliting\n",
    "\n",
    "from sklearn.model_selection import train_test_split\n",
    "\n",
    "x_train,x_test,y_train,y_test=train_test_split(Text,resume_df[\"Category\"],test_size=0.2,random_state=42)"
   ]
  },
  {
   "cell_type": "code",
   "execution_count": 7,
   "id": "efaa6cf5",
   "metadata": {},
   "outputs": [
    {
     "data": {
      "text/plain": [
       "((63, 4109), (16, 4109))"
      ]
     },
     "execution_count": 7,
     "metadata": {},
     "output_type": "execute_result"
    }
   ],
   "source": [
    "x_train.shape,x_test.shape"
   ]
  },
  {
   "cell_type": "code",
   "execution_count": 8,
   "id": "e6d925c9",
   "metadata": {},
   "outputs": [
    {
     "name": "stdout",
     "output_type": "stream",
     "text": [
      "Actual values: [1 0 1 1 0 1 0 3 0 0 2 1 3 1 3 2]\n",
      "Predicted Values: [1 0 1 1 1 1 0 3 0 0 2 1 3 1 3 2]\n",
      "Accuracy score: 0.9375\n"
     ]
    }
   ],
   "source": [
    "# NoW lets train the model and print the classification report:\n",
    "\n",
    "from sklearn.neighbors import KNeighborsClassifier\n",
    "from sklearn.multiclass import OneVsRestClassifier\n",
    "\n",
    "clf=OneVsRestClassifier(KNeighborsClassifier())\n",
    "clf.fit(x_train,y_train)\n",
    "ypred=clf.predict(x_test)\n",
    "\n",
    "print(\"Actual values:\",y_test.values)\n",
    "print(\"Predicted Values:\",ypred)\n",
    "\n",
    "from sklearn.metrics import accuracy_score\n",
    "print(\"Accuracy score:\",accuracy_score(y_test,ypred))"
   ]
  },
  {
   "cell_type": "code",
   "execution_count": 9,
   "id": "595b341e",
   "metadata": {},
   "outputs": [
    {
     "name": "stdout",
     "output_type": "stream",
     "text": [
      "r2 score: 0.9457627118644067\n"
     ]
    }
   ],
   "source": [
    "from sklearn.metrics import r2_score\n",
    "\n",
    "# Calculate the R-squared score\n",
    "r2_score = r2_score(y_test, ypred)\n",
    "\n",
    "# Print the R-squared score\n",
    "print(\"r2 score:\",r2_score)"
   ]
  },
  {
   "cell_type": "code",
   "execution_count": 11,
   "id": "714fa63f",
   "metadata": {},
   "outputs": [
    {
     "name": "stdout",
     "output_type": "stream",
     "text": [
      "              precision    recall  f1-score   support\n",
      "\n",
      "           0       1.00      0.80      0.89         5\n",
      "           1       0.86      1.00      0.92         6\n",
      "           2       1.00      1.00      1.00         2\n",
      "           3       1.00      1.00      1.00         3\n",
      "\n",
      "    accuracy                           0.94        16\n",
      "   macro avg       0.96      0.95      0.95        16\n",
      "weighted avg       0.95      0.94      0.94        16\n",
      "\n"
     ]
    }
   ],
   "source": [
    "from sklearn import metrics\n",
    "print(metrics.classification_report(y_test,ypred))"
   ]
  },
  {
   "cell_type": "markdown",
   "id": "490981a1",
   "metadata": {},
   "source": [
    "# Decision Tree"
   ]
  },
  {
   "cell_type": "code",
   "execution_count": 11,
   "id": "ce2b9e00-5667-4625-98e8-a1ea91493a93",
   "metadata": {},
   "outputs": [
    {
     "data": {
      "text/plain": [
       "((63, 4109), (16, 4109))"
      ]
     },
     "execution_count": 11,
     "metadata": {},
     "output_type": "execute_result"
    }
   ],
   "source": [
    "### Decision tree\n",
    "\n",
    "from sklearn.tree import DecisionTreeClassifier\n",
    "from sklearn.metrics import classification_report\n",
    "\n",
    "X_train, X_test, y_train, y_test = train_test_split(Text, resume_df['Category'], test_size=0.2, random_state=42)\n",
    "X_train.shape, X_test.shape\n"
   ]
  },
  {
   "cell_type": "code",
   "execution_count": 12,
   "id": "6c38ec1e",
   "metadata": {},
   "outputs": [
    {
     "data": {
      "text/plain": [
       "DecisionTreeClassifier()"
      ]
     },
     "execution_count": 12,
     "metadata": {},
     "output_type": "execute_result"
    }
   ],
   "source": [
    "decision_tree_model = DecisionTreeClassifier()\n",
    "decision_tree_model.fit(X_train, y_train)"
   ]
  },
  {
   "cell_type": "code",
   "execution_count": 13,
   "id": "e61608b6",
   "metadata": {},
   "outputs": [
    {
     "name": "stdout",
     "output_type": "stream",
     "text": [
      "Actual values: [1 0 1 1 0 1 0 3 0 0 2 1 3 1 3 2]\n",
      "Predicted Values: [1 0 1 1 0 1 0 3 0 0 2 1 3 1 3 2]\n"
     ]
    }
   ],
   "source": [
    "# Predict the labels for the test set\n",
    "DecisionTree_ypred = decision_tree_model.predict(x_test)\n",
    "print(\"Actual values:\",y_test.values)\n",
    "print(\"Predicted Values:\",DecisionTree_ypred)"
   ]
  },
  {
   "cell_type": "code",
   "execution_count": 14,
   "id": "39568139",
   "metadata": {},
   "outputs": [
    {
     "name": "stdout",
     "output_type": "stream",
     "text": [
      "Accuracy: 1.0000\n"
     ]
    }
   ],
   "source": [
    "# Print the accuracy score\n",
    "accuracy = accuracy_score(y_test, DecisionTree_ypred)\n",
    "print(f'Accuracy: {accuracy:.4f}')"
   ]
  },
  {
   "cell_type": "code",
   "execution_count": 15,
   "id": "97adeb6c",
   "metadata": {},
   "outputs": [
    {
     "name": "stdout",
     "output_type": "stream",
     "text": [
      "1.0\n"
     ]
    }
   ],
   "source": [
    "from sklearn.metrics import accuracy_score, r2_score\n",
    "# Calculate the R-squared score\n",
    "r2_score = r2_score(y_test, DecisionTree_ypred)\n",
    "\n",
    "# Print the R-squared score\n",
    "print(r2_score)"
   ]
  },
  {
   "cell_type": "code",
   "execution_count": 16,
   "id": "315cbdf3",
   "metadata": {},
   "outputs": [
    {
     "name": "stdout",
     "output_type": "stream",
     "text": [
      "              precision    recall  f1-score   support\n",
      "\n",
      "           0       1.00      1.00      1.00         5\n",
      "           1       1.00      1.00      1.00         6\n",
      "           2       1.00      1.00      1.00         2\n",
      "           3       1.00      1.00      1.00         3\n",
      "\n",
      "    accuracy                           1.00        16\n",
      "   macro avg       1.00      1.00      1.00        16\n",
      "weighted avg       1.00      1.00      1.00        16\n",
      "\n"
     ]
    }
   ],
   "source": [
    "# Print the classification report\n",
    "print(classification_report(y_test, DecisionTree_ypred))"
   ]
  },
  {
   "cell_type": "markdown",
   "id": "a5658825",
   "metadata": {},
   "source": [
    "# SVM"
   ]
  },
  {
   "cell_type": "code",
   "execution_count": 17,
   "id": "c3a75762",
   "metadata": {},
   "outputs": [
    {
     "data": {
      "text/plain": [
       "SVC(probability=True)"
      ]
     },
     "execution_count": 17,
     "metadata": {},
     "output_type": "execute_result"
    }
   ],
   "source": [
    "\n",
    "# Train the model using Support Vector Machine\n",
    "from sklearn.svm import SVC\n",
    "svm_model = SVC(probability=True)\n",
    "svm_model.fit(x_train, y_train)"
   ]
  },
  {
   "cell_type": "code",
   "execution_count": 18,
   "id": "fb376808",
   "metadata": {},
   "outputs": [
    {
     "name": "stdout",
     "output_type": "stream",
     "text": [
      "Actual values: [1 0 1 1 0 1 0 3 0 0 2 1 3 1 3 2]\n",
      "Predicted Values: [1 0 1 1 1 1 0 3 0 1 2 1 3 1 3 2]\n"
     ]
    }
   ],
   "source": [
    "# Predict the labels for the test set\n",
    "SVM_ypred = svm_model.predict(x_test)\n",
    "print(\"Actual values:\",y_test.values)\n",
    "print(\"Predicted Values:\",SVM_ypred)"
   ]
  },
  {
   "cell_type": "code",
   "execution_count": 19,
   "id": "035384f8",
   "metadata": {},
   "outputs": [
    {
     "name": "stdout",
     "output_type": "stream",
     "text": [
      "Accuracy: 0.8750\n"
     ]
    }
   ],
   "source": [
    "# Print the accuracy score\n",
    "accuracy = accuracy_score(y_test, SVM_ypred)\n",
    "print(f'Accuracy: {accuracy:.4f}')"
   ]
  },
  {
   "cell_type": "code",
   "execution_count": 20,
   "id": "aa16ea62",
   "metadata": {},
   "outputs": [
    {
     "name": "stdout",
     "output_type": "stream",
     "text": [
      "0.8915254237288136\n"
     ]
    }
   ],
   "source": [
    "from sklearn.metrics import accuracy_score, r2_score\n",
    "# Calculate the R-squared score\n",
    "r2_score = r2_score(y_test, SVM_ypred)\n",
    "\n",
    "# Print the R-squared score\n",
    "print(r2_score)"
   ]
  },
  {
   "cell_type": "code",
   "execution_count": 21,
   "id": "f11e38c0",
   "metadata": {},
   "outputs": [
    {
     "name": "stdout",
     "output_type": "stream",
     "text": [
      "              precision    recall  f1-score   support\n",
      "\n",
      "           0       1.00      0.60      0.75         5\n",
      "           1       0.75      1.00      0.86         6\n",
      "           2       1.00      1.00      1.00         2\n",
      "           3       1.00      1.00      1.00         3\n",
      "\n",
      "    accuracy                           0.88        16\n",
      "   macro avg       0.94      0.90      0.90        16\n",
      "weighted avg       0.91      0.88      0.87        16\n",
      "\n"
     ]
    }
   ],
   "source": [
    "# Print the classification report\n",
    "print(classification_report(y_test, SVM_ypred))"
   ]
  },
  {
   "cell_type": "markdown",
   "id": "992d1ec7",
   "metadata": {},
   "source": [
    "# Naive Bayes"
   ]
  },
  {
   "cell_type": "code",
   "execution_count": 22,
   "id": "5ac38bc6",
   "metadata": {},
   "outputs": [
    {
     "data": {
      "text/plain": [
       "MultinomialNB()"
      ]
     },
     "execution_count": 22,
     "metadata": {},
     "output_type": "execute_result"
    }
   ],
   "source": [
    "# Train the model using Naive Bayes\n",
    "from sklearn.naive_bayes import MultinomialNB\n",
    "naive_bayes_model = MultinomialNB()\n",
    "naive_bayes_model.fit(x_train, y_train)"
   ]
  },
  {
   "cell_type": "code",
   "execution_count": 23,
   "id": "cb2c5a9f",
   "metadata": {},
   "outputs": [
    {
     "name": "stdout",
     "output_type": "stream",
     "text": [
      "Actual values: [1 0 1 1 0 1 0 3 0 0 2 1 3 1 3 2]\n",
      "Predicted Values: [1 0 1 1 3 1 0 3 0 0 2 1 3 1 3 2]\n"
     ]
    }
   ],
   "source": [
    "# Predict the labels for the test set\n",
    "NaiveBayes_ypred = naive_bayes_model.predict(x_test)\n",
    "print(\"Actual values:\",y_test.values)\n",
    "print(\"Predicted Values:\",NaiveBayes_ypred)"
   ]
  },
  {
   "cell_type": "code",
   "execution_count": 24,
   "id": "dc7eec8b",
   "metadata": {},
   "outputs": [
    {
     "name": "stdout",
     "output_type": "stream",
     "text": [
      "Accuracy: 0.9375\n"
     ]
    }
   ],
   "source": [
    "# Print the accuracy score\n",
    "accuracy = accuracy_score(y_test, NaiveBayes_ypred)\n",
    "print(f'Accuracy: {accuracy:.4f}')"
   ]
  },
  {
   "cell_type": "code",
   "execution_count": 25,
   "id": "8d026e88",
   "metadata": {},
   "outputs": [
    {
     "name": "stdout",
     "output_type": "stream",
     "text": [
      "0.5118644067796609\n"
     ]
    }
   ],
   "source": [
    "from sklearn.metrics import accuracy_score, r2_score\n",
    "\n",
    "# Calculate the R-squared score\n",
    "r2_score = r2_score(y_test, NaiveBayes_ypred)\n",
    "\n",
    "# Print the R-squared score\n",
    "print(r2_score)"
   ]
  },
  {
   "cell_type": "code",
   "execution_count": 26,
   "id": "9bee83a0",
   "metadata": {},
   "outputs": [
    {
     "name": "stdout",
     "output_type": "stream",
     "text": [
      "              precision    recall  f1-score   support\n",
      "\n",
      "           0       1.00      0.80      0.89         5\n",
      "           1       1.00      1.00      1.00         6\n",
      "           2       1.00      1.00      1.00         2\n",
      "           3       0.75      1.00      0.86         3\n",
      "\n",
      "    accuracy                           0.94        16\n",
      "   macro avg       0.94      0.95      0.94        16\n",
      "weighted avg       0.95      0.94      0.94        16\n",
      "\n"
     ]
    }
   ],
   "source": [
    "# Print the classification report\n",
    "print(classification_report(y_test, NaiveBayes_ypred))"
   ]
  },
  {
   "cell_type": "code",
   "execution_count": null,
   "id": "7410cd69",
   "metadata": {},
   "outputs": [],
   "source": [
    "# We are moving with the first model"
   ]
  },
  {
   "cell_type": "code",
   "execution_count": 28,
   "id": "9365e7a1",
   "metadata": {},
   "outputs": [],
   "source": [
    "# prediction system\n",
    "\n",
    "import pickle\n",
    "pickle.dump(count_vectorizer,open('count_vectorizer.pkl','wb'))\n",
    "pickle.dump(clf,open('clf.pkl','wb'))"
   ]
  },
  {
   "cell_type": "code",
   "execution_count": 29,
   "id": "5a7e38d0",
   "metadata": {},
   "outputs": [
    {
     "data": {
      "text/plain": [
       "'sql developer name bandi prem sai willing to work under a challenging and professional environment with exposure to new technologies as a t sql in the area of sql server 2012 2016 with enterprise portal and where there is ample scope for organizational growth as well as individual growth 2.6 years of experience in microsoft sql server environment with thorough knowledge of sql server 2012 2016 databases expertise in scripting t sql queries stored procedures user defined functions and triggers hands on experience in performing error handling and performance tuning in stored procedure good experienced in creating and using temporary table table variable and cte s common table expressions used sub queries derived table and joins to simplify complex queries involving multiple tables expertise in creating maintaining database objects like indexes functions views udf s constraints good experience in using ranking functions date functions string functions and aggregate functions good knowledge in transactions isolation level concurrency problems very good experience in building the relationship using constraints good knowledge in creating jobs to automate process using sql server agent good knowledge on new features in sql server 2016 2019 b c a from sri venkateswara university tirupathi worked at techasoft pvt ltd as software engineer bangalore since oct 2018 to till date project ii project name haematology solutions client name bravo pharma domain health care duration feb 2019 till date role sql developer description bravo pharma cares for the protection and enhancement of human health and well being on all levels the spectrum of our activities ranges from supporting education in life sciences and strengthening start ups in health technologies offering novel solutions for diagnostics and personalized treatment to production and sales of pharmaceuticals responsibilities developed and optimized database structures stored procedures views and user defined functions for the application created some t sql queries stored procedures design and create sql tables indexes responsible for query optimization and performance tuning performing query plans and making sure each and every query is using appropriate useful indexes design and create sql tables indexes responsible for query optimization and performance tuning performing query plans and making sure each and every query is using appropriate useful indexes created constraints mainly primary key and foreign key project i project name integrated simple commerce solution client name codi domain e commerce duration nov 2018 feb 2019 role sql developer description integrated simple commerce solution is an ecommerce application to sell products such as laptop printers etc through online integrated simple commerce solution built with high end technology and it is integrated with many upstream and downstream systems to handle the business and full fill customer needs integrated simple commerce solution having millions of customers around 16 countries and provides an easy way to find and buy the products responsibilities developed and optimized database structures stored procedures views and user defined functions for the application created some t sql queries stored procedures design and create sql tables indexes responsible for query optimization and performance tuning performing query plans and making sure each and every query is using appropriate useful indexes design and create sql tables indexes responsible for query optimization and performance tuning performing query plans and making sure each and every query is using appropriate useful indexes created constraints mainly primary key and foreign key'"
      ]
     },
     "execution_count": 29,
     "metadata": {},
     "output_type": "execute_result"
    }
   ],
   "source": [
    "myresume=resume_df[\"Resume_Details\"]\n",
    "myresume[50]"
   ]
  },
  {
   "cell_type": "code",
   "execution_count": 31,
   "id": "88e4707e",
   "metadata": {},
   "outputs": [
    {
     "data": {
      "text/plain": [
       "<1x4109 sparse matrix of type '<class 'numpy.int64'>'\n",
       "\twith 192 stored elements in Compressed Sparse Row format>"
      ]
     },
     "execution_count": 31,
     "metadata": {},
     "output_type": "execute_result"
    }
   ],
   "source": [
    "#load the trained classifier\n",
    "clf=pickle.load(open('clf.pkl','rb'))\n",
    "\n",
    "#Transform the cleaned resume using the trained tfidfvectorizor\n",
    "input_features=count_vectorizer.transform([myresume[50]])\n",
    "input_features"
   ]
  },
  {
   "cell_type": "code",
   "execution_count": 32,
   "id": "38004041",
   "metadata": {},
   "outputs": [],
   "source": [
    "#make the prediction using the loaded classifier\n",
    "prediction_id=clf.predict(input_features)[0]"
   ]
  },
  {
   "cell_type": "code",
   "execution_count": 36,
   "id": "8a97fb6c",
   "metadata": {},
   "outputs": [],
   "source": [
    "category_mapping={0:\"Peoplesoft resumes\",1:\"React Developer\",2:\"SQL Developer\",3:\"WorkDay\"}"
   ]
  },
  {
   "cell_type": "code",
   "execution_count": 37,
   "id": "8a0f39b7",
   "metadata": {},
   "outputs": [],
   "source": [
    "category_name=category_mapping.get(prediction_id,\"unknown\")"
   ]
  },
  {
   "cell_type": "code",
   "execution_count": 38,
   "id": "72a4f7fb",
   "metadata": {},
   "outputs": [
    {
     "name": "stdout",
     "output_type": "stream",
     "text": [
      "prediction_id: 2\n",
      "predicted category: SQL Developer\n"
     ]
    }
   ],
   "source": [
    "print(\"prediction_id:\",prediction_id)\n",
    "print(\"predicted category:\",category_name)"
   ]
  },
  {
   "cell_type": "code",
   "execution_count": null,
   "id": "582f72a8",
   "metadata": {},
   "outputs": [],
   "source": []
  }
 ],
 "metadata": {
  "kernelspec": {
   "display_name": "Python 3 (ipykernel)",
   "language": "python",
   "name": "python3"
  },
  "language_info": {
   "codemirror_mode": {
    "name": "ipython",
    "version": 3
   },
   "file_extension": ".py",
   "mimetype": "text/x-python",
   "name": "python",
   "nbconvert_exporter": "python",
   "pygments_lexer": "ipython3",
   "version": "3.9.13"
  }
 },
 "nbformat": 4,
 "nbformat_minor": 5
}
